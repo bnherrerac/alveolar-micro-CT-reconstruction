{
 "cells": [
  {
   "cell_type": "code",
   "execution_count": 2,
   "metadata": {},
   "outputs": [
    {
     "name": "stdout",
     "output_type": "stream",
     "text": [
      "The autoreload extension is already loaded. To reload it, use:\n",
      "  %reload_ext autoreload\n"
     ]
    }
   ],
   "source": [
    "import numpy as np\n",
    "import matplotlib.pyplot as plt\n",
    "import matplotlib.patches as patches\n",
    "import scipy as sp\n",
    "import cv2\n",
    "import sys\n",
    "import seaborn as sns\n",
    "\n",
    "from skimage.data import shepp_logan_phantom\n",
    "from skimage.transform import (radon, rescale, iradon)\n",
    "from skimage.restoration import (denoise_bilateral, calibrate_denoiser, denoise_nl_means,\n",
    "                                 denoise_tv_bregman, denoise_tv_chambolle, denoise_wavelet, estimate_sigma)\n",
    "from skimage.util import (img_as_float, random_noise)\n",
    "from skimage.color import rgb2gray\n",
    "from skimage.metrics import peak_signal_noise_ratio as peakSNR\n",
    "from skimage.io import use_plugin, imread, imsave, find_available_plugins, imshow\n",
    "\n",
    "import algotom.io.loadersaver as losa\n",
    "import algotom.io.converter as cvr\n",
    "import algotom.prep.correction as corr\n",
    "import algotom.prep.calculation as calc\n",
    "import algotom.prep.removal as remo\n",
    "import algotom.prep.filtering as filt\n",
    "import algotom.rec.reconstruction as rec\n",
    "\n",
    "%load_ext autoreload\n",
    "%autoreload 2"
   ]
  },
  {
   "cell_type": "code",
   "execution_count": 3,
   "metadata": {},
   "outputs": [],
   "source": [
    "# proj_path = r'.\\data_5um\\proj'\n",
    "# output_base = r'.\\data_5um'\n",
    "\n",
    "# # Convert tif images to hdf format for fast extracting sinograms.\n",
    "# file_path = output_base + \"5um_data.hdf\"\n",
    "# key_path = \"entry/projections\"\n",
    "# cvr.convert_tif_to_hdf(proj_path, file_path, key_path=key_path)"
   ]
  },
  {
   "cell_type": "code",
   "execution_count": null,
   "metadata": {},
   "outputs": [],
   "source": [
    "# Nimgs = 1800\n",
    "# idx_slice = 1200\n",
    "\n",
    "# all_thumbnails = []\n",
    "\n",
    "# # Radon transform of u data (sinogram), noisy\n",
    "\n",
    "# for i in range(Nimgs):\n",
    "#     if i % 10 == 0:\n",
    "#         print(f\"Current slice: {i}\")\n",
    "    \n",
    "#     current_proj = cv2.imread(r'.\\PS2_B2_CT_images_raw\\17_01_2024_P2_B2_CONTROL0000' + f\"{i:04}\" + '.tif', cv2.IMREAD_UNCHANGED)\n",
    "\n",
    "#     if i == 0:\n",
    "#         Ru = np.zeros((Nimgs, current_proj.shape[1]))\n",
    "\n",
    "#     Ru[i, :] = current_proj[idx_slice, :]\n",
    "#     all_thumbnails.append(rescale(current_proj, 0.4))"
   ]
  },
  {
   "cell_type": "code",
   "execution_count": null,
   "metadata": {},
   "outputs": [],
   "source": []
  }
 ],
 "metadata": {
  "kernelspec": {
   "display_name": "Python 3",
   "language": "python",
   "name": "python3"
  },
  "language_info": {
   "codemirror_mode": {
    "name": "ipython",
    "version": 3
   },
   "file_extension": ".py",
   "mimetype": "text/x-python",
   "name": "python",
   "nbconvert_exporter": "python",
   "pygments_lexer": "ipython3",
   "version": "3.10.8"
  }
 },
 "nbformat": 4,
 "nbformat_minor": 2
}
